{
 "cells": [
  {
   "cell_type": "markdown",
   "metadata": {},
   "source": [
    "This is based on the tutorial from https://code.visualstudio.com/docs/datascience/data-science-tutorial\n",
    "\n",
    "Importing pandas, the python data handling and analysis library. Then read the csv file with our sample data into a pandas dataframe object, and print out a record to show the structure of the data. Learn about pandas at https://www.w3schools.com/python/pandas/default.asp"
   ]
  },
  {
   "cell_type": "code",
   "execution_count": 13,
   "metadata": {},
   "outputs": [],
   "source": [
    "import pandas as pd # type: ignore\n",
    "data = pd.read_csv('titanic3.csv')\n",
    "under2 = data.query('age < 2')"
   ]
  },
  {
   "cell_type": "markdown",
   "metadata": {},
   "source": [
    "Importing NumPy, a Python library for working with arrays, doing stats and more. https://www.w3schools.com/python/numpy/default.asp "
   ]
  },
  {
   "cell_type": "code",
   "execution_count": 14,
   "metadata": {},
   "outputs": [],
   "source": [
    "import numpy as np # type: ignore"
   ]
  },
  {
   "cell_type": "markdown",
   "metadata": {},
   "source": [
    "Now we do a bit of data cleaning. The source data has question marks in fields where no data is available. If we want these fields to be numerical, we can't have that. So we replace all of the question marks with NaN (not a number) which is recognised by the numpy library. Age and fare can then be converted to numerical fields (float64 as some data has decimal points, e.g. a fare of 212.50)."
   ]
  },
  {
   "cell_type": "code",
   "execution_count": 15,
   "metadata": {},
   "outputs": [],
   "source": [
    "data.replace('?', np.nan, inplace= True)\n",
    "data = data.astype({\"age\": np.float64, \"fare\": np.float64})"
   ]
  },
  {
   "cell_type": "markdown",
   "metadata": {},
   "source": [
    "Importing Matplotlib https://www.w3schools.com/python/matplotlib_intro.asp\n",
    "and Seaborn https://seaborn.pydata.org/ libraries for visualising the data"
   ]
  },
  {
   "cell_type": "code",
   "execution_count": 16,
   "metadata": {},
   "outputs": [],
   "source": [
    "import matplotlib # type: ignore\n",
    "import seaborn # type: ignore"
   ]
  }
 ],
 "metadata": {
  "kernelspec": {
   "display_name": "Python 3",
   "language": "python",
   "name": "python3"
  },
  "language_info": {
   "codemirror_mode": {
    "name": "ipython",
    "version": 3
   },
   "file_extension": ".py",
   "mimetype": "text/x-python",
   "name": "python",
   "nbconvert_exporter": "python",
   "pygments_lexer": "ipython3",
   "version": "3.10.13"
  }
 },
 "nbformat": 4,
 "nbformat_minor": 2
}
