{
 "cells": [
  {
   "cell_type": "markdown",
   "metadata": {},
   "source": [
    "Importing pandas, the python data handling and analysis library. Then read the csv file with our sample data into a pandas dataframe object, and print out a record to show the structure of the data. Learn about pandas at https://www.w3schools.com/python/pandas/default.asp"
   ]
  },
  {
   "cell_type": "code",
   "execution_count": 10,
   "metadata": {},
   "outputs": [
    {
     "name": "stdout",
     "output_type": "stream",
     "text": [
      "pclass                                     1\n",
      "survived                                   0\n",
      "name            Allison, Miss. Helen Loraine\n",
      "sex                                   female\n",
      "age                                      2.0\n",
      "sibsp                                      1\n",
      "parch                                      2\n",
      "ticket                                113781\n",
      "fare                                  151.55\n",
      "cabin                                C22 C26\n",
      "embarked                                   S\n",
      "boat                                     NaN\n",
      "body                                     NaN\n",
      "home.dest    Montreal, PQ / Chesterville, ON\n",
      "Name: 2, dtype: object\n"
     ]
    }
   ],
   "source": [
    "import pandas as pd\n",
    "data = pd.read_csv('titanic3.csv')\n",
    "print(data.loc[2])"
   ]
  },
  {
   "cell_type": "markdown",
   "metadata": {},
   "source": [
    "Importing NumPy, a Python library for working with arrays, doing stats and more. https://www.w3schools.com/python/numpy/default.asp "
   ]
  },
  {
   "cell_type": "code",
   "execution_count": 11,
   "metadata": {},
   "outputs": [],
   "source": [
    "import numpy as np\n"
   ]
  },
  {
   "cell_type": "markdown",
   "metadata": {},
   "source": [
    "Import Matplotlib https://www.w3schools.com/python/matplotlib_intro.asp"
   ]
  }
 ],
 "metadata": {
  "kernelspec": {
   "display_name": "Python 3",
   "language": "python",
   "name": "python3"
  },
  "language_info": {
   "codemirror_mode": {
    "name": "ipython",
    "version": 3
   },
   "file_extension": ".py",
   "mimetype": "text/x-python",
   "name": "python",
   "nbconvert_exporter": "python",
   "pygments_lexer": "ipython3",
   "version": "3.10.13"
  }
 },
 "nbformat": 4,
 "nbformat_minor": 2
}
