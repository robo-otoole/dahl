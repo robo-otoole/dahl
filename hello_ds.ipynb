{
 "cells": [
  {
   "cell_type": "code",
   "execution_count": 6,
   "metadata": {},
   "outputs": [
    {
     "name": "stdout",
     "output_type": "stream",
     "text": [
      "pclass                                     1\n",
      "survived                                   0\n",
      "name            Allison, Miss. Helen Loraine\n",
      "sex                                   female\n",
      "age                                      2.0\n",
      "sibsp                                      1\n",
      "parch                                      2\n",
      "ticket                                113781\n",
      "fare                                  151.55\n",
      "cabin                                C22 C26\n",
      "embarked                                   S\n",
      "boat                                     NaN\n",
      "body                                     NaN\n",
      "home.dest    Montreal, PQ / Chesterville, ON\n",
      "Name: 2, dtype: object\n"
     ]
    }
   ],
   "source": [
    "import pandas as pd\n",
    "import numpy as np\n",
    "data = pd.read_csv('titanic3.csv')\n",
    "print(data.loc[2])"
   ]
  }
 ],
 "metadata": {
  "kernelspec": {
   "display_name": "Python 3",
   "language": "python",
   "name": "python3"
  },
  "language_info": {
   "codemirror_mode": {
    "name": "ipython",
    "version": 3
   },
   "file_extension": ".py",
   "mimetype": "text/x-python",
   "name": "python",
   "nbconvert_exporter": "python",
   "pygments_lexer": "ipython3",
   "version": "3.10.13"
  }
 },
 "nbformat": 4,
 "nbformat_minor": 2
}
